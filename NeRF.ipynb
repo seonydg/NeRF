{
 "cells": [
  {
   "cell_type": "code",
   "execution_count": null,
   "metadata": {},
   "outputs": [],
   "source": [
    "import os\n",
    "import torch\n",
    "import numpy as np\n",
    "import matplotlib.pyplot as plt\n",
    "from tqdm import tqdm"
   ]
  },
  {
   "cell_type": "markdown",
   "metadata": {},
   "source": [
    "# Dataset\n",
    "\n",
    "Tiny Lego dataset\n",
    "- https://people.eecs.berkeley.edu/~bmild/nerf/tiny_nerf_data.npz"
   ]
  },
  {
   "cell_type": "code",
   "execution_count": null,
   "metadata": {},
   "outputs": [],
   "source": [
    "if not os.path.exists(\"tiny_nerf_data.npz\"):\n",
    "  !wget https://people.eecs.berkeley.edu/~bmild/nerf/tiny_nerf_data.npz\n",
    "\n",
    "dataset = np.load(\"tiny_nerf_data.npz\")\n",
    "print(dataset[\"images\"].shape)\n",
    "print(dataset[\"poses\"].shape)\n",
    "print(dataset['focal'])\n",
    "fig, axs = plt.subplots(nrows=1, ncols=10, figsize=(30,4))\n",
    "for i, ax in enumerate(axs.flatten()):\n",
    "    plt.sca(ax)\n",
    "    plt.imshow(dataset['images'][i])\n",
    "    plt.title('Image: {}'.format(i+1))\n",
    "    plt.axis(\"off\")"
   ]
  },
  {
   "cell_type": "code",
   "execution_count": null,
   "metadata": {},
   "outputs": [],
   "source": [
    "poses = dataset['poses']\n",
    "dirs = np.stack([np.sum([0, 0, -1] * pose[:3, :3], axis=-1) for pose in poses])\n",
    "origins = poses[:, :3, 3]\n",
    "\n",
    "ax = plt.figure(figsize=(12,8)).add_subplot(projection=\"3d\")\n",
    "_ = ax.quiver(\n",
    "    origins[..., 0].flatten(),\n",
    "    origins[..., 1].flatten(),\n",
    "    origins[..., 2].flatten(),\n",
    "    dirs[..., 0].flatten(),\n",
    "    dirs[..., 1].flatten(),\n",
    "    dirs[..., 2].flatten(), length=0.5, normalize=True\n",
    ")\n",
    "plt.show()"
   ]
  }
 ],
 "metadata": {
  "language_info": {
   "name": "python"
  }
 },
 "nbformat": 4,
 "nbformat_minor": 2
}
